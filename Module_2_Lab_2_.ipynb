{
  "nbformat": 4,
  "nbformat_minor": 0,
  "metadata": {
    "colab": {
      "provenance": [],
      "authorship_tag": "ABX9TyMVmVj/XJqFt+4in9urBmv9",
      "include_colab_link": true
    },
    "kernelspec": {
      "name": "python3",
      "display_name": "Python 3"
    },
    "language_info": {
      "name": "python"
    }
  },
  "cells": [
    {
      "cell_type": "markdown",
      "metadata": {
        "id": "view-in-github",
        "colab_type": "text"
      },
      "source": [
        "<a href=\"https://colab.research.google.com/github/Rohanpeerla/Assignment-Module-2-Lab-2-/blob/master/Module_2_Lab_2_.ipynb\" target=\"_parent\"><img src=\"https://colab.research.google.com/assets/colab-badge.svg\" alt=\"Open In Colab\"/></a>"
      ]
    },
    {
      "cell_type": "code",
      "execution_count": null,
      "metadata": {
        "id": "SOT_bGoONhWk"
      },
      "outputs": [],
      "source": [
        "#Question:\n",
        "#Referring to the plot above, can you reason why PCA can be a good candidate before training models for Machine learning?"
      ]
    },
    {
      "cell_type": "markdown",
      "source": [
        "PCA can be a good canditate before training models for machine learning for following reasons\n",
        "  \n",
        "PCA can reduce the number of features in the dataset. This can help to prevent overfitting, which is a problem that can occur when machine learning algorithms are trained on datasets with too many features.\n",
        "PCA can identify the most important features in the dataset. This can help to improve the accuracy of machine learning models.\n",
        "PCA can visualize high-dimensional data in a lower-dimensional space. This can be helpful for understanding the data and for identifying patterns in the data.\n",
        "In the example of the breast cancer dataset, PCA was able to reduce the number of features from 30 to 2 without losing too much information. This allowed the machine learning algorithm to be trained without overfitting, and the accuracy of the model was improved.\n",
        "\n",
        "To visualize the data in the first 3 principal components space, we can use the following code:\n",
        "\n",
        "Python\n",
        "import numpy as np\n",
        "import matplotlib.pyplot as plt\n",
        "\n",
        "# Load the breast cancer dataset\n",
        "X, y = load_breast_cancer()\n",
        "\n",
        "# Perform PCA\n",
        "pca = PCA(n_components=3)\n",
        "X_pca = pca.fit_transform(X)\n",
        "\n",
        "# Visualize the data in the first 3 principal components space\n",
        "fig, ax = plt.subplots()\n",
        "\n",
        "ax.scatter(X_pca[:, 0], X_pca[:, 1], c=y, cmap='plasma')\n",
        "ax.set_xlabel('PC1')\n",
        "ax.set_ylabel('PC2')\n",
        "ax.set_title('Breast Cancer Dataset in the First 3 Principal Components Space')\n",
        "\n",
        "plt.show()\n",
        "Use code with caution. Learn more\n",
        "This will produce a scatter plot showing the data in the first 3 principal components space. The benign tumors are shown in blue, and the malignant tumors are shown in red.\n",
        "\n",
        "The scatter plot shows that the benign and malignant tumors are well-separated in the first 3 principal components space. This suggests that PCA can be used to effectively reduce the number of features in the breast cancer dataset without losing too much information.\n",
        "\n",
        "In general, PCA is a powerful tool that can be used to improve the performance of machine learning models. It can be used to reduce the number of features in the dataset, identify the most important features in the dataset, and visualize high-dimensional data in a lower-dimensional space."
      ],
      "metadata": {
        "id": "4hYMb8V0N1tv"
      }
    }
  ]
}